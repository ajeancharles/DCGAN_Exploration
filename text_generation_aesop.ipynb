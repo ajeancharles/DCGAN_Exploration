{
  "nbformat": 4,
  "nbformat_minor": 0,
  "metadata": {
    "colab": {
      "name": "text_generation_aesop.ipynb",
      "provenance": [],
      "collapsed_sections": [],
      "machine_shape": "hm",
      "authorship_tag": "ABX9TyMkdlzuk1fMdD82TacT++fM",
      "include_colab_link": true
    },
    "kernelspec": {
      "name": "python3",
      "display_name": "Python 3"
    },
    "language_info": {
      "name": "python"
    },
    "accelerator": "GPU"
  },
  "cells": [
    {
      "cell_type": "markdown",
      "metadata": {
        "id": "view-in-github",
        "colab_type": "text"
      },
      "source": [
        "<a href=\"https://colab.research.google.com/github/ajeancharles/DCGAN_Exploration/blob/main/text_generation_aesop.ipynb\" target=\"_parent\"><img src=\"https://colab.research.google.com/assets/colab-badge.svg\" alt=\"Open In Colab\"/></a>"
      ]
    },
    {
      "cell_type": "code",
      "metadata": {
        "id": "LBYdPN0Ww4mL"
      },
      "source": [
        "url = r'https://www.gutenberg.org/cache/epub/11339/pg11339.txt'"
      ],
      "execution_count": 1,
      "outputs": []
    },
    {
      "cell_type": "code",
      "metadata": {
        "id": "fjrUK_0vxBDa"
      },
      "source": [
        "import gdown\n",
        "import os"
      ],
      "execution_count": 2,
      "outputs": []
    },
    {
      "cell_type": "code",
      "metadata": {
        "colab": {
          "base_uri": "https://localhost:8080/",
          "height": 35
        },
        "id": "9AsbmK1HykaB",
        "outputId": "3e0ca8e0-a9d0-4821-e280-f80773774ef7"
      },
      "source": [
        "os.getcwd()"
      ],
      "execution_count": 3,
      "outputs": [
        {
          "output_type": "execute_result",
          "data": {
            "application/vnd.google.colaboratory.intrinsic+json": {
              "type": "string"
            },
            "text/plain": [
              "'/content'"
            ]
          },
          "metadata": {},
          "execution_count": 3
        }
      ]
    },
    {
      "cell_type": "code",
      "metadata": {
        "colab": {
          "base_uri": "https://localhost:8080/"
        },
        "id": "HsLxhHA_x0x1",
        "outputId": "2b56d987-434d-4bdf-cc9e-b22a214bfef6"
      },
      "source": [
        "os.listdir((os.getcwd()))"
      ],
      "execution_count": 4,
      "outputs": [
        {
          "output_type": "execute_result",
          "data": {
            "text/plain": [
              "['.config', 'aesop', 'sample_data']"
            ]
          },
          "metadata": {},
          "execution_count": 4
        }
      ]
    },
    {
      "cell_type": "code",
      "metadata": {
        "colab": {
          "base_uri": "https://localhost:8080/",
          "height": 105
        },
        "id": "XlAJZodjyAwH",
        "outputId": "d0601b99-0db5-4e0c-add7-ae7ae8887310"
      },
      "source": [
        "# Root directory for the dataset\n",
        "data_root = '/content/aesop'\n",
        "\n",
        "\n",
        "# Path to download the dataset to\n",
        "download_path = f'{data_root}/fables.txt'\n",
        "\n",
        "# Create required directories \n",
        "if not os.path.exists(data_root):\n",
        "  os.makedirs(data_root)\n",
        "\n",
        "# Download the dataset from google drive\n",
        "gdown.download(url, download_path, quiet=False)\n"
      ],
      "execution_count": 5,
      "outputs": [
        {
          "output_type": "stream",
          "name": "stderr",
          "text": [
            "Downloading...\n",
            "From: https://www.gutenberg.org/cache/epub/11339/pg11339.txt\n",
            "To: /content/aesop/fables.txt\n",
            "243kB [00:00, 1.43MB/s]\n"
          ]
        },
        {
          "output_type": "execute_result",
          "data": {
            "application/vnd.google.colaboratory.intrinsic+json": {
              "type": "string"
            },
            "text/plain": [
              "'/content/aesop/fables.txt'"
            ]
          },
          "metadata": {},
          "execution_count": 5
        }
      ]
    },
    {
      "cell_type": "code",
      "metadata": {
        "id": "gxL3V6_NzWTu"
      },
      "source": [
        "import re\n",
        "from keras.preprocessing.text import Tokenizer\n",
        "\n",
        "filename = \"/content/aesop/fables.txt\"\n",
        "\n",
        "with open(filename, encoding='utf-8-sig') as f:\n",
        "    text = f.read()\n",
        "\n",
        "seq_length = 20\n",
        "start_story = '| ' * seq_length\n",
        "\n",
        "# CLEANUP\n",
        "text = text.lower()\n",
        "text = start_story + text\n",
        "text = text.replace('\\n\\n\\n\\n\\n', start_story)\n",
        "text = text.replace('\\n', ' ')\n",
        "text = re.sub('  +', '. ', text).strip()\n",
        "text = text.replace('..', '.')\n",
        "\n",
        "text = re.sub('([!\"#$%&()*+,-./:;<=>?@[\\]^_`{|}~])', r' \\1 ', text)\n",
        "text = re.sub('\\s{2,}', ' ', text)\n",
        "\n",
        "\n",
        "# TOKENIZATION\n",
        "tokenizer = Tokenizer(char_level = False, filters = '')\n",
        "tokenizer.fit_on_texts([text])\n",
        "total_words = len(tokenizer.word_index) + 1\n",
        "token_list = tokenizer.texts_to_sequences([text])[0]"
      ],
      "execution_count": 6,
      "outputs": []
    },
    {
      "cell_type": "code",
      "metadata": {
        "colab": {
          "base_uri": "https://localhost:8080/"
        },
        "id": "nsX7R1lXz7MB",
        "outputId": "b01f17d4-b174-4f4a-c3a9-ef63eff207c7"
      },
      "source": [
        "import numpy as np\n",
        "from keras.utils import np_utils\n",
        "\n",
        "def generate_sequences(token_list, step):\n",
        "\n",
        "    X = []\n",
        "    y = []\n",
        "\n",
        "    for i in range(0, len(token_list) - seq_length, step):\n",
        "        X.append(token_list[i: i + seq_length])\n",
        "        y.append(token_list[i + seq_length])\n",
        "\n",
        "    y = np_utils.to_categorical(y, num_classes = total_words)\n",
        "\n",
        "    num_seq = len(X)\n",
        "    print('Number of sequences:', num_seq, \"\\n\")\n",
        "\n",
        "    return X, y, num_seq\n",
        "\n",
        "step = 1\n",
        "seq_length = 20\n",
        "X, y, num_seq = generate_sequences(token_list, step)\n",
        "\n",
        "X = np.array(X)\n",
        "y = np.array(y)"
      ],
      "execution_count": 7,
      "outputs": [
        {
          "output_type": "stream",
          "name": "stdout",
          "text": [
            "Number of sequences: 58912 \n",
            "\n"
          ]
        }
      ]
    },
    {
      "cell_type": "code",
      "metadata": {
        "colab": {
          "base_uri": "https://localhost:8080/"
        },
        "id": "UI5oqHGFz-P2",
        "outputId": "07a277fc-f3b2-48fa-de18-34cec7d98a48"
      },
      "source": [
        "from keras.layers import Dense, LSTM, Input, Embedding, Dropout\n",
        "from keras.models import Model\n",
        "from tensorflow.keras.optimizers import RMSprop\n",
        "\n",
        "n_units = 256\n",
        "embedding_size = 100\n",
        "\n",
        "text_in = Input(shape = (None,))\n",
        "x = Embedding(total_words, embedding_size)(text_in)\n",
        "x = LSTM(n_units)(x)\n",
        "x = Dropout(0.2)(x)\n",
        "text_out = Dense(total_words, activation = 'softmax')(x)\n",
        "\n",
        "model = Model(text_in, text_out)\n",
        "\n",
        "opti = RMSprop(learning_rate = 0.001)\n",
        "model.compile(loss='categorical_crossentropy', optimizer=opti)\n",
        "\n",
        "epochs = 100\n",
        "batch_size = 32\n",
        "model.fit(X, y, epochs=epochs, batch_size=batch_size, shuffle = True)"
      ],
      "execution_count": null,
      "outputs": [
        {
          "output_type": "stream",
          "name": "stdout",
          "text": [
            "Epoch 1/100\n",
            "1841/1841 [==============================] - 11s 5ms/step - loss: 5.2190\n",
            "Epoch 2/100\n",
            "1841/1841 [==============================] - 8s 5ms/step - loss: 4.8269\n",
            "Epoch 3/100\n",
            "1841/1841 [==============================] - 8s 5ms/step - loss: 4.6783\n",
            "Epoch 4/100\n",
            "1841/1841 [==============================] - 8s 4ms/step - loss: 4.5806\n",
            "Epoch 5/100\n",
            "1841/1841 [==============================] - 8s 4ms/step - loss: 4.5178\n",
            "Epoch 6/100\n",
            "1841/1841 [==============================] - 8s 4ms/step - loss: 4.5134\n",
            "Epoch 7/100\n",
            "1841/1841 [==============================] - 8s 4ms/step - loss: 4.5341\n",
            "Epoch 8/100\n",
            "1841/1841 [==============================] - 8s 4ms/step - loss: 4.5548\n",
            "Epoch 9/100\n",
            "1841/1841 [==============================] - 8s 4ms/step - loss: 4.6232\n",
            "Epoch 10/100\n",
            "1841/1841 [==============================] - 8s 4ms/step - loss: 4.7057\n",
            "Epoch 11/100\n",
            "1841/1841 [==============================] - 8s 4ms/step - loss: 4.8611\n",
            "Epoch 12/100\n",
            "1841/1841 [==============================] - 8s 4ms/step - loss: 4.9594\n",
            "Epoch 13/100\n",
            "1841/1841 [==============================] - 8s 4ms/step - loss: 5.0623\n",
            "Epoch 14/100\n",
            "1841/1841 [==============================] - 8s 4ms/step - loss: 5.1475\n",
            "Epoch 15/100\n",
            "1841/1841 [==============================] - 8s 4ms/step - loss: 5.2127\n",
            "Epoch 16/100\n",
            "1841/1841 [==============================] - 8s 4ms/step - loss: 5.2222\n",
            "Epoch 17/100\n",
            "1841/1841 [==============================] - 8s 4ms/step - loss: 5.2272\n",
            "Epoch 18/100\n",
            "1841/1841 [==============================] - 8s 4ms/step - loss: 5.2079\n",
            "Epoch 19/100\n",
            "1841/1841 [==============================] - 8s 4ms/step - loss: 5.1403\n",
            "Epoch 20/100\n",
            "1841/1841 [==============================] - 8s 4ms/step - loss: 5.0488\n",
            "Epoch 21/100\n",
            "1841/1841 [==============================] - 8s 4ms/step - loss: 4.9835\n",
            "Epoch 22/100\n",
            "1841/1841 [==============================] - 8s 4ms/step - loss: 4.8885\n",
            "Epoch 23/100\n",
            "1841/1841 [==============================] - 8s 4ms/step - loss: 4.8056\n",
            "Epoch 24/100\n",
            "1841/1841 [==============================] - 8s 4ms/step - loss: 4.7321\n",
            "Epoch 25/100\n",
            "1841/1841 [==============================] - 8s 4ms/step - loss: 4.6198\n",
            "Epoch 26/100\n",
            "1841/1841 [==============================] - 8s 4ms/step - loss: 4.5300\n",
            "Epoch 27/100\n",
            "1841/1841 [==============================] - 8s 4ms/step - loss: 4.4605\n",
            "Epoch 28/100\n",
            "1841/1841 [==============================] - 8s 4ms/step - loss: 4.3871\n",
            "Epoch 29/100\n",
            "1841/1841 [==============================] - 8s 4ms/step - loss: 4.3069\n",
            "Epoch 30/100\n",
            "1841/1841 [==============================] - 8s 4ms/step - loss: 4.2272\n",
            "Epoch 31/100\n",
            "1841/1841 [==============================] - 8s 4ms/step - loss: 4.1707\n",
            "Epoch 32/100\n",
            "1841/1841 [==============================] - 8s 4ms/step - loss: 4.1201\n",
            "Epoch 33/100\n",
            "1841/1841 [==============================] - 8s 4ms/step - loss: 4.0653\n",
            "Epoch 34/100\n",
            "1841/1841 [==============================] - 8s 4ms/step - loss: 4.0307\n",
            "Epoch 35/100\n",
            "1841/1841 [==============================] - 8s 4ms/step - loss: 3.9911\n",
            "Epoch 36/100\n",
            "1841/1841 [==============================] - 8s 4ms/step - loss: 3.9505\n",
            "Epoch 37/100\n",
            "1841/1841 [==============================] - 8s 4ms/step - loss: 3.9287\n",
            "Epoch 38/100\n",
            "1841/1841 [==============================] - 8s 4ms/step - loss: 3.9041\n",
            "Epoch 39/100\n",
            "1841/1841 [==============================] - 8s 4ms/step - loss: 3.8819\n",
            "Epoch 40/100\n",
            "1841/1841 [==============================] - 8s 4ms/step - loss: 3.8659\n",
            "Epoch 41/100\n",
            "1841/1841 [==============================] - 8s 4ms/step - loss: 3.8624\n",
            "Epoch 42/100\n",
            "1841/1841 [==============================] - 8s 4ms/step - loss: 3.8247\n",
            "Epoch 43/100\n",
            "1841/1841 [==============================] - 8s 4ms/step - loss: 3.7918\n",
            "Epoch 44/100\n",
            "1841/1841 [==============================] - 8s 4ms/step - loss: 3.7981\n",
            "Epoch 45/100\n",
            "1841/1841 [==============================] - 8s 4ms/step - loss: 3.7545\n",
            "Epoch 46/100\n",
            "1841/1841 [==============================] - 8s 4ms/step - loss: 3.7484\n",
            "Epoch 47/100\n",
            "1841/1841 [==============================] - 8s 4ms/step - loss: 3.7188\n",
            "Epoch 48/100\n",
            "1841/1841 [==============================] - 8s 4ms/step - loss: 3.6843\n",
            "Epoch 49/100\n",
            "1841/1841 [==============================] - 8s 4ms/step - loss: 3.6650\n",
            "Epoch 50/100\n",
            "1841/1841 [==============================] - 8s 4ms/step - loss: 3.6303\n",
            "Epoch 51/100\n",
            "1841/1841 [==============================] - 8s 4ms/step - loss: 3.6198\n",
            "Epoch 52/100\n",
            "1841/1841 [==============================] - 8s 4ms/step - loss: 3.5994\n",
            "Epoch 53/100\n",
            "1841/1841 [==============================] - 8s 4ms/step - loss: 3.5926\n",
            "Epoch 54/100\n",
            "1841/1841 [==============================] - 8s 4ms/step - loss: 3.5674\n",
            "Epoch 55/100\n",
            "1841/1841 [==============================] - 8s 4ms/step - loss: 3.5676\n",
            "Epoch 56/100\n",
            "1841/1841 [==============================] - 8s 4ms/step - loss: 3.5643\n",
            "Epoch 57/100\n",
            "1841/1841 [==============================] - 8s 4ms/step - loss: 3.5298\n",
            "Epoch 58/100\n",
            "1841/1841 [==============================] - 8s 4ms/step - loss: 3.5356\n",
            "Epoch 59/100\n",
            "1841/1841 [==============================] - 8s 4ms/step - loss: 3.5202\n",
            "Epoch 60/100\n",
            "1841/1841 [==============================] - 8s 4ms/step - loss: 3.5023\n",
            "Epoch 61/100\n",
            "1841/1841 [==============================] - 8s 4ms/step - loss: 3.4878\n",
            "Epoch 62/100\n",
            "1841/1841 [==============================] - 8s 4ms/step - loss: 3.4967\n",
            "Epoch 63/100\n",
            "1841/1841 [==============================] - 8s 4ms/step - loss: 3.4723\n",
            "Epoch 64/100\n",
            "1841/1841 [==============================] - 8s 4ms/step - loss: 3.4509\n",
            "Epoch 65/100\n",
            "1841/1841 [==============================] - 8s 4ms/step - loss: 3.4455\n",
            "Epoch 66/100\n",
            "1841/1841 [==============================] - 8s 4ms/step - loss: 3.4405\n",
            "Epoch 67/100\n",
            "1841/1841 [==============================] - 8s 4ms/step - loss: 3.4234\n",
            "Epoch 68/100\n",
            "1841/1841 [==============================] - 8s 4ms/step - loss: 3.4117\n",
            "Epoch 69/100\n",
            "1841/1841 [==============================] - 8s 4ms/step - loss: 3.4057\n",
            "Epoch 70/100\n",
            "1841/1841 [==============================] - 8s 4ms/step - loss: 3.3884\n",
            "Epoch 71/100\n",
            "1841/1841 [==============================] - 8s 4ms/step - loss: 3.3860\n",
            "Epoch 72/100\n",
            "1841/1841 [==============================] - 8s 4ms/step - loss: 3.3807\n",
            "Epoch 73/100\n",
            "1841/1841 [==============================] - 8s 4ms/step - loss: 3.3771\n",
            "Epoch 74/100\n",
            "1841/1841 [==============================] - 8s 4ms/step - loss: 3.3908\n",
            "Epoch 75/100\n",
            "1841/1841 [==============================] - 8s 4ms/step - loss: 3.3782\n",
            "Epoch 76/100\n",
            "1841/1841 [==============================] - 8s 4ms/step - loss: 3.3673\n",
            "Epoch 77/100\n",
            "1841/1841 [==============================] - 8s 4ms/step - loss: 3.3524\n",
            "Epoch 78/100\n",
            "1841/1841 [==============================] - 8s 4ms/step - loss: 3.3586\n",
            "Epoch 79/100\n",
            "1137/1841 [=================>............] - ETA: 3s - loss: 3.2913"
          ]
        }
      ]
    },
    {
      "cell_type": "code",
      "metadata": {
        "id": "vDoJGWFe03DM"
      },
      "source": [
        "def sample_with_temp(preds, temperature=1.0): \n",
        "    # helper function to sample an index from a probability array\n",
        "    preds = np.asarray(preds).astype('float64')\n",
        "    preds = np.log(preds) / temperature\n",
        "    exp_preds = np.exp(preds)\n",
        "    preds = exp_preds / np.sum(exp_preds)\n",
        "    probs = np.random.multinomial(1, preds, 1)\n",
        "    return np.argmax(probs)\n",
        "\n",
        "def generate_text(seed_text, next_words, model, max_sequence_len, temp):\n",
        "    output_text = seed_text\n",
        "    seed_text = start_story + seed_text \n",
        "\n",
        "    for _ in range(next_words):\n",
        "        token_list = tokenizer.texts_to_sequences([seed_text])[0] \n",
        "        token_list = token_list[-max_sequence_len:] \n",
        "        token_list = np.reshape(token_list, (1, max_sequence_len))\n",
        "\n",
        "        probs = model.predict(token_list, verbose=0)[0] \n",
        "        y_class = sample_with_temp(probs, temperature = temp) \n",
        "\n",
        "        output_word = tokenizer.index_word[y_class] if y_class > 0 else ''\n",
        "\n",
        "        if output_word == \"|\": \n",
        "            break\n",
        "\n",
        "        seed_text += output_word + '  ' \n",
        "        output_text += output_word + '  '\n",
        "\n",
        "    return output_text"
      ],
      "execution_count": null,
      "outputs": []
    },
    {
      "cell_type": "code",
      "metadata": {
        "id": "ySpbKbeD5KsV"
      },
      "source": [
        "seed_text = 'cat was eating'\n",
        "next_words = 1\n",
        "max_sequence_len = 6\n",
        "temp = 0\n",
        "seed_text = generate_text(seed_text, next_words, model, max_sequence_len, temp)"
      ],
      "execution_count": null,
      "outputs": []
    },
    {
      "cell_type": "code",
      "metadata": {
        "id": "36Vn20zl9HjW"
      },
      "source": [
        "while True:\n",
        "  print(seed_text)\n",
        "  seed_text = generate_text(seed_text, next_words, model, max_sequence_len, temp)"
      ],
      "execution_count": null,
      "outputs": []
    },
    {
      "cell_type": "code",
      "metadata": {
        "id": "rxTBgQ3x-ifU"
      },
      "source": [
        "print(seed_text)"
      ],
      "execution_count": null,
      "outputs": []
    },
    {
      "cell_type": "code",
      "metadata": {
        "id": "-zzyd0aC_Q0Z"
      },
      "source": [
        ""
      ],
      "execution_count": null,
      "outputs": []
    }
  ]
}