{
  "nbformat": 4,
  "nbformat_minor": 0,
  "metadata": {
    "colab": {
      "name": "mnist_dcgan_keras.ipynb",
      "provenance": [],
      "collapsed_sections": [],
      "machine_shape": "hm",
      "authorship_tag": "ABX9TyOjlE22wyr66x9f7WMD5KPG",
      "include_colab_link": true
    },
    "kernelspec": {
      "name": "python3",
      "display_name": "Python 3"
    },
    "language_info": {
      "name": "python"
    },
    "accelerator": "GPU"
  },
  "cells": [
    {
      "cell_type": "markdown",
      "metadata": {
        "id": "view-in-github",
        "colab_type": "text"
      },
      "source": [
        "<a href=\"https://colab.research.google.com/github/ajeancharles/DCGAN_Exploration/blob/main/mnist_dcgan_keras.ipynb\" target=\"_parent\"><img src=\"https://colab.research.google.com/assets/colab-badge.svg\" alt=\"Open In Colab\"/></a>"
      ]
    },
    {
      "cell_type": "code",
      "metadata": {
        "colab": {
          "base_uri": "https://localhost:8080/",
          "height": 35
        },
        "id": "Zgu_nhONCskU",
        "outputId": "23c012bc-0e2c-4a5a-8e3a-73dd5263e377"
      },
      "source": [
        "import tensorflow as tf\n",
        "tf.__version__"
      ],
      "execution_count": 36,
      "outputs": [
        {
          "output_type": "execute_result",
          "data": {
            "application/vnd.google.colaboratory.intrinsic+json": {
              "type": "string"
            },
            "text/plain": [
              "'2.6.0'"
            ]
          },
          "metadata": {},
          "execution_count": 36
        }
      ]
    },
    {
      "cell_type": "code",
      "metadata": {
        "id": "5Kgwgx85C6O_"
      },
      "source": [
        "%pip install -q imageio"
      ],
      "execution_count": 37,
      "outputs": []
    },
    {
      "cell_type": "code",
      "metadata": {
        "id": "EvcaQcHLDyvV"
      },
      "source": [
        "import glob, imageio\n",
        "import matplotlib.pyplot as plt\n",
        "import numpy as np\n",
        "import os, PIL\n",
        "import time\n",
        "from tensorflow.keras import layers\n",
        "from IPython import display"
      ],
      "execution_count": 38,
      "outputs": []
    },
    {
      "cell_type": "code",
      "metadata": {
        "id": "vmP5TTMqD_rb"
      },
      "source": [
        "(train_image, train_label), (_,_) = tf.keras.datasets.mnist.load_data()"
      ],
      "execution_count": 39,
      "outputs": []
    },
    {
      "cell_type": "code",
      "metadata": {
        "colab": {
          "base_uri": "https://localhost:8080/"
        },
        "id": "QYkdg1_3FoXD",
        "outputId": "cce71e74-548e-44fe-8e9d-1254badedf28"
      },
      "source": [
        "train_image.shape, train_image[0].shape"
      ],
      "execution_count": 40,
      "outputs": [
        {
          "output_type": "execute_result",
          "data": {
            "text/plain": [
              "((60000, 28, 28), (28, 28))"
            ]
          },
          "metadata": {},
          "execution_count": 40
        }
      ]
    },
    {
      "cell_type": "code",
      "metadata": {
        "colab": {
          "base_uri": "https://localhost:8080/"
        },
        "id": "BIRvxduQFzp8",
        "outputId": "1f9b6386-ed66-435e-fe18-eee9dd99e60b"
      },
      "source": [
        "train_image.shape[0]"
      ],
      "execution_count": 41,
      "outputs": [
        {
          "output_type": "execute_result",
          "data": {
            "text/plain": [
              "60000"
            ]
          },
          "metadata": {},
          "execution_count": 41
        }
      ]
    },
    {
      "cell_type": "code",
      "metadata": {
        "id": "CAA_NkXgG7z3"
      },
      "source": [
        "train_image = train_image.reshape(train_image.shape[0],28,28,1).astype('float32')\n"
      ],
      "execution_count": 42,
      "outputs": []
    },
    {
      "cell_type": "code",
      "metadata": {
        "colab": {
          "base_uri": "https://localhost:8080/"
        },
        "id": "rZbi0W3vHcTc",
        "outputId": "7cb342ac-3f2c-4290-a762-089ad39dd8c1"
      },
      "source": [
        "train_image.shape, train_image[0].shape"
      ],
      "execution_count": 43,
      "outputs": [
        {
          "output_type": "execute_result",
          "data": {
            "text/plain": [
              "((60000, 28, 28, 1), (28, 28, 1))"
            ]
          },
          "metadata": {},
          "execution_count": 43
        }
      ]
    },
    {
      "cell_type": "code",
      "metadata": {
        "id": "PJ8J55HeHmpk"
      },
      "source": [
        "train_image = (train_image - 127.5)/127.5"
      ],
      "execution_count": 44,
      "outputs": []
    },
    {
      "cell_type": "code",
      "metadata": {
        "id": "TnSDdWPqIIaU"
      },
      "source": [
        "BUFFER_SIZE = 5000\n",
        "BATCH_SIZE = 256"
      ],
      "execution_count": 45,
      "outputs": []
    },
    {
      "cell_type": "code",
      "metadata": {
        "id": "RZJPtrM5IUP5"
      },
      "source": [
        "train_dataset = tf.data.Dataset.from_tensor_slices(train_image).shuffle(BUFFER_SIZE).batch(BATCH_SIZE)"
      ],
      "execution_count": 46,
      "outputs": []
    },
    {
      "cell_type": "code",
      "metadata": {
        "id": "-a43H87VJCnJ"
      },
      "source": [
        "def make_generator_model():\n",
        "  model = tf.keras.Sequential()\n",
        "\n",
        "  model.add(layers.Dense(7*7*256,use_bias=False,input_shape=(100,)))\n",
        "  model.add(layers.BatchNormalization())\n",
        "  model.add(layers.LeakyReLU())\n",
        "\n",
        "  model.add(layers.Reshape((7,7,256)))\n",
        "  assert model.output_shape == (None,7,7,256) \n",
        "\n",
        "  model.add(layers.Conv2DTranspose(128,(5,5),(1,1),padding='same',use_bias=False))\n",
        "  assert model.output_shape == (None,7,7,128)\n",
        "  model.add(layers.BatchNormalization())\n",
        "  model.add(layers.LeakyReLU())\n",
        "\n",
        "\n",
        "  model.add(layers.Conv2DTranspose(64,(5,5),(2,2),padding='same',use_bias=False))\n",
        "  assert model.output_shape == (None,14,14,64)\n",
        "  model.add(layers.BatchNormalization())\n",
        "  model.add(layers.LeakyReLU())\n",
        "\n",
        "\n",
        "  model.add(layers.Conv2DTranspose(1,(5,5),(2,2),padding='same',use_bias=False, activation='tanh'))\n",
        "  assert model.output_shape == (None,28,28,1)\n",
        "\n",
        "  return model\n",
        "\n",
        "\n"
      ],
      "execution_count": 47,
      "outputs": []
    },
    {
      "cell_type": "code",
      "metadata": {
        "colab": {
          "base_uri": "https://localhost:8080/"
        },
        "id": "DVsN2T5oJmtH",
        "outputId": "6c880fd7-f5a1-43f6-fbfc-09f97b79bd30"
      },
      "source": [
        "noise = tf.random.normal([1,100])\n",
        "print(f\"element shape :{noise[0].shape}\")"
      ],
      "execution_count": 48,
      "outputs": [
        {
          "output_type": "stream",
          "name": "stdout",
          "text": [
            "element shape :(100,)\n"
          ]
        }
      ]
    },
    {
      "cell_type": "code",
      "metadata": {
        "id": "UrJsoE6FQaY2"
      },
      "source": [
        "generator = make_generator_model()\n"
      ],
      "execution_count": 49,
      "outputs": []
    },
    {
      "cell_type": "code",
      "metadata": {
        "id": "3hjepjOaRn2O"
      },
      "source": [
        "gen_imj = generator(noise, training= False)"
      ],
      "execution_count": 50,
      "outputs": []
    },
    {
      "cell_type": "code",
      "metadata": {
        "colab": {
          "base_uri": "https://localhost:8080/"
        },
        "id": "ls2d556qR4sv",
        "outputId": "e3f9b13b-4b99-4329-edde-53cb7494faf9"
      },
      "source": [
        "gen_imj[0,:,:,0].shape"
      ],
      "execution_count": 51,
      "outputs": [
        {
          "output_type": "execute_result",
          "data": {
            "text/plain": [
              "TensorShape([28, 28])"
            ]
          },
          "metadata": {},
          "execution_count": 51
        }
      ]
    },
    {
      "cell_type": "code",
      "metadata": {
        "colab": {
          "base_uri": "https://localhost:8080/",
          "height": 265
        },
        "id": "lBf7dzjnSdwU",
        "outputId": "3035049e-b6ac-480c-db30-78e5e1901b75"
      },
      "source": [
        "plt.imshow(gen_imj[0,:,:,0] , cmap='gray');"
      ],
      "execution_count": 52,
      "outputs": [
        {
          "output_type": "display_data",
          "data": {
            "image/png": "[encoded data removed]",
            "text/plain": [
              "<Figure size 432x288 with 1 Axes>"
            ]
          },
          "metadata": {
            "needs_background": "light"
          }
        }
      ]
    },
    {
      "cell_type": "code",
      "metadata": {
        "id": "7u1obvk3S_Ra"
      },
      "source": [
        "def make_discriminator_model():\n",
        "  model = tf.keras.Sequential()\n",
        "\n",
        "  model.add(layers.Conv2D(64,(5,5),strides=(2,2),padding='same',input_shape=[28,28,1]))\n",
        "  model.add(layers.LeakyReLU())\n",
        "  model.add(layers.Dropout(0.3))\n",
        "\n",
        " \n",
        "  model.add(layers.Conv2D(128,(5,5),strides=(2,2),padding='same'))\n",
        "  model.add(layers.LeakyReLU())\n",
        "  model.add(layers.Dropout(0.3))\n",
        "\n",
        "  model.add(layers.Flatten())\n",
        "  model.add(layers.Dense(1))\n",
        "\n",
        "\n",
        "  return model\n",
        "\n"
      ],
      "execution_count": 53,
      "outputs": []
    },
    {
      "cell_type": "code",
      "metadata": {
        "colab": {
          "base_uri": "https://localhost:8080/"
        },
        "id": "JOsOAIgrVM71",
        "outputId": "393791c7-c431-4c91-b4b1-0738dd29f11d"
      },
      "source": [
        "discriminator = make_discriminator_model()\n",
        "discriminator(gen_imj, training= False).numpy()[0][0]"
      ],
      "execution_count": 54,
      "outputs": [
        {
          "output_type": "execute_result",
          "data": {
            "text/plain": [
              "-0.00027456775"
            ]
          },
          "metadata": {},
          "execution_count": 54
        }
      ]
    },
    {
      "cell_type": "code",
      "metadata": {
        "id": "foMUKK-lX6IT"
      },
      "source": [
        "lossfn_bincross =  tf.keras.losses.BinaryCrossentropy(from_logits=True)"
      ],
      "execution_count": 55,
      "outputs": []
    },
    {
      "cell_type": "code",
      "metadata": {
        "id": "Z-viiSE2aUwO"
      },
      "source": [
        "def discriminator_loss(real_output, fake_output):\n",
        "\n",
        "  real_loss = lossfn_bincross(tf.ones_like(real_output), real_output)\n",
        "  fake_loss = lossfn_bincross(tf.zeros_like(fake_output), fake_output)\n",
        "\n",
        "  total_loss = real_loss + fake_loss\n",
        "  return total_loss"
      ],
      "execution_count": 56,
      "outputs": []
    },
    {
      "cell_type": "code",
      "metadata": {
        "id": "EUw20GVdarQh"
      },
      "source": [
        "def generator_loss(fake_output):\n",
        "\n",
        "  total_loss = lossfn_bincross(tf.ones_like(fake_output), fake_output)\n",
        "  return total_loss"
      ],
      "execution_count": 57,
      "outputs": []
    },
    {
      "cell_type": "code",
      "metadata": {
        "id": "_O05cqbDdSfC"
      },
      "source": [
        "generator_optimizer = tf.keras.optimizers.Adam(1e-4)\n",
        "discriminator_optimizer = tf.keras.optimizers.Adam(1e-4)"
      ],
      "execution_count": 58,
      "outputs": []
    },
    {
      "cell_type": "code",
      "metadata": {
        "id": "Y_Dw6p7tdcLN"
      },
      "source": [
        "checkpoint_dir = './training_checkpoints'\n",
        "checkpoint_prefix = os.path.join(checkpoint_dir,'ckpt')"
      ],
      "execution_count": 59,
      "outputs": []
    },
    {
      "cell_type": "code",
      "metadata": {
        "colab": {
          "base_uri": "https://localhost:8080/",
          "height": 35
        },
        "id": "DQENN83qd8NX",
        "outputId": "5a149f01-b9ae-4f18-c9f2-62b6c364fd75"
      },
      "source": [
        "checkpoint_prefix"
      ],
      "execution_count": 60,
      "outputs": [
        {
          "output_type": "execute_result",
          "data": {
            "application/vnd.google.colaboratory.intrinsic+json": {
              "type": "string"
            },
            "text/plain": [
              "'./training_checkpoints/ckpt'"
            ]
          },
          "metadata": {},
          "execution_count": 60
        }
      ]
    },
    {
      "cell_type": "code",
      "metadata": {
        "id": "maczNQExecXV"
      },
      "source": [
        "check_point = tf.train.Checkpoint(generator_optimizer=generator_optimizer,discriminator_optimizer=discriminator_optimizer, generator=generator, discriminator=discriminator )"
      ],
      "execution_count": 61,
      "outputs": []
    },
    {
      "cell_type": "code",
      "metadata": {
        "colab": {
          "base_uri": "https://localhost:8080/",
          "height": 35
        },
        "id": "gpKTntuZgtTO",
        "outputId": "34af0286-7bbb-444b-fa0b-908e5dcc49c5"
      },
      "source": [
        "os.getcwd()"
      ],
      "execution_count": 62,
      "outputs": [
        {
          "output_type": "execute_result",
          "data": {
            "application/vnd.google.colaboratory.intrinsic+json": {
              "type": "string"
            },
            "text/plain": [
              "'/content'"
            ]
          },
          "metadata": {},
          "execution_count": 62
        }
      ]
    },
    {
      "cell_type": "code",
      "metadata": {
        "id": "Yqkh7cGlg237"
      },
      "source": [
        "EPOCHS = 50\n",
        "noise_dim = 100\n",
        "num_examples_to_generate = 16"
      ],
      "execution_count": 63,
      "outputs": []
    },
    {
      "cell_type": "code",
      "metadata": {
        "id": "UsUksszohQwj"
      },
      "source": [
        "seed = tf.random.normal([num_examples_to_generate,noise_dim])"
      ],
      "execution_count": 64,
      "outputs": []
    },
    {
      "cell_type": "code",
      "metadata": {
        "colab": {
          "base_uri": "https://localhost:8080/"
        },
        "id": "wiovlGLJiFen",
        "outputId": "07220f7a-23f2-4d71-cdcd-2df1a4f095d4"
      },
      "source": [
        "seed.numpy().shape"
      ],
      "execution_count": 65,
      "outputs": [
        {
          "output_type": "execute_result",
          "data": {
            "text/plain": [
              "(16, 100)"
            ]
          },
          "metadata": {},
          "execution_count": 65
        }
      ]
    },
    {
      "cell_type": "code",
      "metadata": {
        "id": "NV9Y4DD4iGos"
      },
      "source": [
        "def train_step(images):\n",
        "\n",
        "  noise = tf.random.normal([BUFFER_SIZE,noise_dim])\n",
        "  with tf.GradientTape() as gen_tape, tf.GradientTape() as disc_tape:\n",
        "    generated_images = generator(noise, training=True)\n",
        "\n",
        "    real_output = discriminator(images, training=True)\n",
        "    fake_output = discriminator(generated_images, training=True)\n",
        "\n",
        "    gen_loss = generator_loss(fake_output)\n",
        "    disc_loss = discriminator_loss(real_output, fake_output)\n",
        "\n",
        "    gradients_of_generator = gen_tape.gradient(gen_loss, generator.trainable_variables)\n",
        "    gradients_of_discriminator = disc_tape.gradient(disc_loss, discriminator.trainable_variables)\n",
        "\n",
        "    generator_optimizer.apply_gradients(zip(gradients_of_generator,generator.trainable_variables))\n",
        "    discriminator_optimizer.apply_gradients(zip(gradients_of_discriminator,discriminator.trainable_variables))\n",
        "\n"
      ],
      "execution_count": 66,
      "outputs": []
    },
    {
      "cell_type": "code",
      "metadata": {
        "id": "Znk2Vjm9ist2"
      },
      "source": [
        "def generate_and_save_images(model, epoch, test_input):\n",
        "\n",
        "  predictions = model(test_input, training=False)\n",
        "  fig = plt.figure(figsize=(4,4))\n",
        "\n",
        "  for i in range(predictions.shape[0]):\n",
        "    plt.subplot(4,4,i+1)\n",
        "    plt.imshow(predictions[i,:,:,0] , cmap='gray')\n",
        "    plt.axis('off')\n",
        "\n",
        "  plt.savefig('image_at_epoch_{:04d}.png'.format(epoch))\n",
        "  plt.show()"
      ],
      "execution_count": 67,
      "outputs": []
    },
    {
      "cell_type": "code",
      "metadata": {
        "id": "srTVrE3KpB-J"
      },
      "source": [
        "def train(dataset, epochs):\n",
        "\n",
        "  for epoch in range(epochs):\n",
        "\n",
        "    start = time.time()\n",
        "\n",
        "    for image_batch in dataset:\n",
        "      train_step(image_batch)\n",
        "\n",
        "    display.clear_output(wait=True)\n",
        "\n",
        "    generate_and_save_images(model=generator, epoch=(epoch+1), test_input=seed)\n",
        "\n",
        "    if (epochs+1) % 15 == 0 :\n",
        "      check_point.save(file_prefix=checkpoint_prefix)\n",
        "\n",
        "    print(f\"time for epoch:{epoch+1}  in min: {(time.time()-start)/60}\")\n",
        "\n",
        "  display.clear_output(wait=True)\n",
        "  generate_and_save_images(model=generator, epoch=epochs, test_input=seed)\n",
        "\n",
        "\n",
        "  "
      ],
      "execution_count": 68,
      "outputs": []
    },
    {
      "cell_type": "code",
      "metadata": {
        "colab": {
          "base_uri": "https://localhost:8080/",
          "height": 265
        },
        "id": "mURtK8fQrt3v",
        "outputId": "2a1dd2de-4bc4-4945-a8e2-ee340fd79464"
      },
      "source": [
        "train(train_dataset, EPOCHS)"
      ],
      "execution_count": null,
      "outputs": [
        {
          "output_type": "display_data",
          "data": {
            "image/png": "[encoded data removed]",
            "text/plain": [
              "<Figure size 288x288 with 16 Axes>"
            ]
          },
          "metadata": {
            "needs_background": "light"
          }
        },
        {
          "output_type": "stream",
          "name": "stdout",
          "text": [
            "time for epoch: 25 in sec: 123.61862683296204\n"
          ]
        }
      ]
    },
    {
      "cell_type": "code",
      "metadata": {
        "id": "b_pkjIXixDQ3"
      },
      "source": [
        "checkpoint.restor(tf.train.latest_checkpoint(checkpoint_dir))"
      ],
      "execution_count": null,
      "outputs": []
    },
    {
      "cell_type": "markdown",
      "metadata": {
        "id": "KM1qdSXx4sfW"
      },
      "source": [
        "/content/image_at_epoch0001.png"
      ]
    }
  ]
}